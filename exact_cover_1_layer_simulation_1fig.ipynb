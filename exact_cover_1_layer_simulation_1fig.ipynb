{
  "nbformat": 4,
  "nbformat_minor": 0,
  "metadata": {
    "colab": {
      "provenance": []
    },
    "kernelspec": {
      "name": "python3",
      "display_name": "Python 3"
    },
    "language_info": {
      "name": "python"
    }
  },
  "cells": [
    {
      "cell_type": "code",
      "execution_count": null,
      "metadata": {
        "colab": {
          "base_uri": "https://localhost:8080/"
        },
        "id": "u0-q0bIK2uad",
        "outputId": "ac72766f-b47f-4640-cfd1-0d841a6689bc"
      },
      "outputs": [
        {
          "output_type": "stream",
          "name": "stdout",
          "text": [
            "Requirement already satisfied: qiskit[visualization] in /usr/local/lib/python3.10/dist-packages (1.3.0)\n",
            "Requirement already satisfied: rustworkx>=0.15.0 in /usr/local/lib/python3.10/dist-packages (from qiskit[visualization]) (0.15.1)\n",
            "Requirement already satisfied: numpy<3,>=1.17 in /usr/local/lib/python3.10/dist-packages (from qiskit[visualization]) (1.26.4)\n",
            "Requirement already satisfied: scipy>=1.5 in /usr/local/lib/python3.10/dist-packages (from qiskit[visualization]) (1.13.1)\n",
            "Requirement already satisfied: sympy>=1.3 in /usr/local/lib/python3.10/dist-packages (from qiskit[visualization]) (1.13.1)\n",
            "Requirement already satisfied: dill>=0.3 in /usr/local/lib/python3.10/dist-packages (from qiskit[visualization]) (0.3.9)\n",
            "Requirement already satisfied: python-dateutil>=2.8.0 in /usr/local/lib/python3.10/dist-packages (from qiskit[visualization]) (2.8.2)\n",
            "Requirement already satisfied: stevedore>=3.0.0 in /usr/local/lib/python3.10/dist-packages (from qiskit[visualization]) (5.4.0)\n",
            "Requirement already satisfied: typing-extensions in /usr/local/lib/python3.10/dist-packages (from qiskit[visualization]) (4.12.2)\n",
            "Requirement already satisfied: symengine<0.14,>=0.11 in /usr/local/lib/python3.10/dist-packages (from qiskit[visualization]) (0.13.0)\n",
            "Requirement already satisfied: matplotlib>=3.3 in /usr/local/lib/python3.10/dist-packages (from qiskit[visualization]) (3.8.0)\n",
            "Requirement already satisfied: pydot in /usr/local/lib/python3.10/dist-packages (from qiskit[visualization]) (3.0.3)\n",
            "Requirement already satisfied: Pillow>=4.2.1 in /usr/local/lib/python3.10/dist-packages (from qiskit[visualization]) (11.0.0)\n",
            "Requirement already satisfied: pylatexenc>=1.4 in /usr/local/lib/python3.10/dist-packages (from qiskit[visualization]) (2.10)\n",
            "Requirement already satisfied: seaborn>=0.9.0 in /usr/local/lib/python3.10/dist-packages (from qiskit[visualization]) (0.13.2)\n",
            "Requirement already satisfied: contourpy>=1.0.1 in /usr/local/lib/python3.10/dist-packages (from matplotlib>=3.3->qiskit[visualization]) (1.3.1)\n",
            "Requirement already satisfied: cycler>=0.10 in /usr/local/lib/python3.10/dist-packages (from matplotlib>=3.3->qiskit[visualization]) (0.12.1)\n",
            "Requirement already satisfied: fonttools>=4.22.0 in /usr/local/lib/python3.10/dist-packages (from matplotlib>=3.3->qiskit[visualization]) (4.55.1)\n",
            "Requirement already satisfied: kiwisolver>=1.0.1 in /usr/local/lib/python3.10/dist-packages (from matplotlib>=3.3->qiskit[visualization]) (1.4.7)\n",
            "Requirement already satisfied: packaging>=20.0 in /usr/local/lib/python3.10/dist-packages (from matplotlib>=3.3->qiskit[visualization]) (24.2)\n",
            "Requirement already satisfied: pyparsing>=2.3.1 in /usr/local/lib/python3.10/dist-packages (from matplotlib>=3.3->qiskit[visualization]) (3.2.0)\n",
            "Requirement already satisfied: six>=1.5 in /usr/local/lib/python3.10/dist-packages (from python-dateutil>=2.8.0->qiskit[visualization]) (1.16.0)\n",
            "Requirement already satisfied: pandas>=1.2 in /usr/local/lib/python3.10/dist-packages (from seaborn>=0.9.0->qiskit[visualization]) (2.2.2)\n",
            "Requirement already satisfied: pbr>=2.0.0 in /usr/local/lib/python3.10/dist-packages (from stevedore>=3.0.0->qiskit[visualization]) (6.1.0)\n",
            "Requirement already satisfied: mpmath<1.4,>=1.1.0 in /usr/local/lib/python3.10/dist-packages (from sympy>=1.3->qiskit[visualization]) (1.3.0)\n",
            "Requirement already satisfied: pytz>=2020.1 in /usr/local/lib/python3.10/dist-packages (from pandas>=1.2->seaborn>=0.9.0->qiskit[visualization]) (2024.2)\n",
            "Requirement already satisfied: tzdata>=2022.7 in /usr/local/lib/python3.10/dist-packages (from pandas>=1.2->seaborn>=0.9.0->qiskit[visualization]) (2024.2)\n",
            "Requirement already satisfied: qiskit-ibm-runtime in /usr/local/lib/python3.10/dist-packages (0.34.0)\n",
            "Requirement already satisfied: requests>=2.19 in /usr/local/lib/python3.10/dist-packages (from qiskit-ibm-runtime) (2.32.3)\n",
            "Requirement already satisfied: requests-ntlm>=1.1.0 in /usr/local/lib/python3.10/dist-packages (from qiskit-ibm-runtime) (1.3.0)\n",
            "Requirement already satisfied: numpy>=1.13 in /usr/local/lib/python3.10/dist-packages (from qiskit-ibm-runtime) (1.26.4)\n",
            "Requirement already satisfied: urllib3>=1.21.1 in /usr/local/lib/python3.10/dist-packages (from qiskit-ibm-runtime) (2.2.3)\n",
            "Requirement already satisfied: python-dateutil>=2.8.0 in /usr/local/lib/python3.10/dist-packages (from qiskit-ibm-runtime) (2.8.2)\n",
            "Requirement already satisfied: websocket-client>=1.5.1 in /usr/local/lib/python3.10/dist-packages (from qiskit-ibm-runtime) (1.8.0)\n",
            "Requirement already satisfied: ibm-platform-services>=0.22.6 in /usr/local/lib/python3.10/dist-packages (from qiskit-ibm-runtime) (0.59.0)\n",
            "Requirement already satisfied: pydantic<2.10,>=2.5.0 in /usr/local/lib/python3.10/dist-packages (from qiskit-ibm-runtime) (2.9.2)\n",
            "Requirement already satisfied: qiskit>=1.1.0 in /usr/local/lib/python3.10/dist-packages (from qiskit-ibm-runtime) (1.3.0)\n",
            "Requirement already satisfied: ibm-cloud-sdk-core<4.0.0,>=3.22.0 in /usr/local/lib/python3.10/dist-packages (from ibm-platform-services>=0.22.6->qiskit-ibm-runtime) (3.22.0)\n",
            "Requirement already satisfied: annotated-types>=0.6.0 in /usr/local/lib/python3.10/dist-packages (from pydantic<2.10,>=2.5.0->qiskit-ibm-runtime) (0.7.0)\n",
            "Requirement already satisfied: pydantic-core==2.23.4 in /usr/local/lib/python3.10/dist-packages (from pydantic<2.10,>=2.5.0->qiskit-ibm-runtime) (2.23.4)\n",
            "Requirement already satisfied: typing-extensions>=4.6.1 in /usr/local/lib/python3.10/dist-packages (from pydantic<2.10,>=2.5.0->qiskit-ibm-runtime) (4.12.2)\n",
            "Requirement already satisfied: six>=1.5 in /usr/local/lib/python3.10/dist-packages (from python-dateutil>=2.8.0->qiskit-ibm-runtime) (1.16.0)\n",
            "Requirement already satisfied: rustworkx>=0.15.0 in /usr/local/lib/python3.10/dist-packages (from qiskit>=1.1.0->qiskit-ibm-runtime) (0.15.1)\n",
            "Requirement already satisfied: scipy>=1.5 in /usr/local/lib/python3.10/dist-packages (from qiskit>=1.1.0->qiskit-ibm-runtime) (1.13.1)\n",
            "Requirement already satisfied: sympy>=1.3 in /usr/local/lib/python3.10/dist-packages (from qiskit>=1.1.0->qiskit-ibm-runtime) (1.13.1)\n",
            "Requirement already satisfied: dill>=0.3 in /usr/local/lib/python3.10/dist-packages (from qiskit>=1.1.0->qiskit-ibm-runtime) (0.3.9)\n",
            "Requirement already satisfied: stevedore>=3.0.0 in /usr/local/lib/python3.10/dist-packages (from qiskit>=1.1.0->qiskit-ibm-runtime) (5.4.0)\n",
            "Requirement already satisfied: symengine<0.14,>=0.11 in /usr/local/lib/python3.10/dist-packages (from qiskit>=1.1.0->qiskit-ibm-runtime) (0.13.0)\n",
            "Requirement already satisfied: charset-normalizer<4,>=2 in /usr/local/lib/python3.10/dist-packages (from requests>=2.19->qiskit-ibm-runtime) (3.4.0)\n",
            "Requirement already satisfied: idna<4,>=2.5 in /usr/local/lib/python3.10/dist-packages (from requests>=2.19->qiskit-ibm-runtime) (3.10)\n",
            "Requirement already satisfied: certifi>=2017.4.17 in /usr/local/lib/python3.10/dist-packages (from requests>=2.19->qiskit-ibm-runtime) (2024.8.30)\n",
            "Requirement already satisfied: cryptography>=1.3 in /usr/local/lib/python3.10/dist-packages (from requests-ntlm>=1.1.0->qiskit-ibm-runtime) (43.0.3)\n",
            "Requirement already satisfied: pyspnego>=0.4.0 in /usr/local/lib/python3.10/dist-packages (from requests-ntlm>=1.1.0->qiskit-ibm-runtime) (0.11.2)\n",
            "Requirement already satisfied: cffi>=1.12 in /usr/local/lib/python3.10/dist-packages (from cryptography>=1.3->requests-ntlm>=1.1.0->qiskit-ibm-runtime) (1.17.1)\n",
            "Requirement already satisfied: PyJWT<3.0.0,>=2.8.0 in /usr/local/lib/python3.10/dist-packages (from ibm-cloud-sdk-core<4.0.0,>=3.22.0->ibm-platform-services>=0.22.6->qiskit-ibm-runtime) (2.10.1)\n",
            "Requirement already satisfied: pbr>=2.0.0 in /usr/local/lib/python3.10/dist-packages (from stevedore>=3.0.0->qiskit>=1.1.0->qiskit-ibm-runtime) (6.1.0)\n",
            "Requirement already satisfied: mpmath<1.4,>=1.1.0 in /usr/local/lib/python3.10/dist-packages (from sympy>=1.3->qiskit>=1.1.0->qiskit-ibm-runtime) (1.3.0)\n",
            "Requirement already satisfied: pycparser in /usr/local/lib/python3.10/dist-packages (from cffi>=1.12->cryptography>=1.3->requests-ntlm>=1.1.0->qiskit-ibm-runtime) (2.22)\n",
            "Requirement already satisfied: qiskit-aer in /usr/local/lib/python3.10/dist-packages (0.15.1)\n",
            "Requirement already satisfied: qiskit>=1.1.0 in /usr/local/lib/python3.10/dist-packages (from qiskit-aer) (1.3.0)\n",
            "Requirement already satisfied: numpy>=1.16.3 in /usr/local/lib/python3.10/dist-packages (from qiskit-aer) (1.26.4)\n",
            "Requirement already satisfied: scipy>=1.0 in /usr/local/lib/python3.10/dist-packages (from qiskit-aer) (1.13.1)\n",
            "Requirement already satisfied: psutil>=5 in /usr/local/lib/python3.10/dist-packages (from qiskit-aer) (5.9.5)\n",
            "Requirement already satisfied: rustworkx>=0.15.0 in /usr/local/lib/python3.10/dist-packages (from qiskit>=1.1.0->qiskit-aer) (0.15.1)\n",
            "Requirement already satisfied: sympy>=1.3 in /usr/local/lib/python3.10/dist-packages (from qiskit>=1.1.0->qiskit-aer) (1.13.1)\n",
            "Requirement already satisfied: dill>=0.3 in /usr/local/lib/python3.10/dist-packages (from qiskit>=1.1.0->qiskit-aer) (0.3.9)\n",
            "Requirement already satisfied: python-dateutil>=2.8.0 in /usr/local/lib/python3.10/dist-packages (from qiskit>=1.1.0->qiskit-aer) (2.8.2)\n",
            "Requirement already satisfied: stevedore>=3.0.0 in /usr/local/lib/python3.10/dist-packages (from qiskit>=1.1.0->qiskit-aer) (5.4.0)\n",
            "Requirement already satisfied: typing-extensions in /usr/local/lib/python3.10/dist-packages (from qiskit>=1.1.0->qiskit-aer) (4.12.2)\n",
            "Requirement already satisfied: symengine<0.14,>=0.11 in /usr/local/lib/python3.10/dist-packages (from qiskit>=1.1.0->qiskit-aer) (0.13.0)\n",
            "Requirement already satisfied: six>=1.5 in /usr/local/lib/python3.10/dist-packages (from python-dateutil>=2.8.0->qiskit>=1.1.0->qiskit-aer) (1.16.0)\n",
            "Requirement already satisfied: pbr>=2.0.0 in /usr/local/lib/python3.10/dist-packages (from stevedore>=3.0.0->qiskit>=1.1.0->qiskit-aer) (6.1.0)\n",
            "Requirement already satisfied: mpmath<1.4,>=1.1.0 in /usr/local/lib/python3.10/dist-packages (from sympy>=1.3->qiskit>=1.1.0->qiskit-aer) (1.3.0)\n"
          ]
        }
      ],
      "source": [
        "!pip install 'qiskit[visualization]'\n",
        "!pip install qiskit-ibm-runtime\n",
        "!pip install qiskit-aer\n"
      ]
    },
    {
      "cell_type": "code",
      "source": [
        "# Standard imports\n",
        "import numpy as np\n",
        "import matplotlib.pyplot as plt\n",
        "#\n",
        "from scipy.optimize import minimize\n",
        "#\n",
        "from qiskit.quantum_info import SparsePauliOp\n",
        "#\n",
        "from qiskit.circuit.library import QAOAAnsatz\n",
        "\n",
        "#\n",
        "from qiskit import transpile\n",
        "from qiskit.transpiler.preset_passmanagers import generate_preset_pass_manager\n",
        "\n",
        "#\n",
        "from qiskit_aer import AerSimulator\n",
        "#\n",
        "from qiskit_aer.primitives import EstimatorV2 as Estimator\n",
        "from qiskit_aer.primitives import SamplerV2 as Sampler\n",
        "\n",
        "from tqdm import tqdm\n",
        "\n",
        "print('import done')"
      ],
      "metadata": {
        "colab": {
          "base_uri": "https://localhost:8080/"
        },
        "id": "-ws0nJ9k22yn",
        "outputId": "f6060c4b-a0bf-4a3e-b52f-7a97d3b1df72"
      },
      "execution_count": null,
      "outputs": [
        {
          "output_type": "stream",
          "name": "stdout",
          "text": [
            "import done\n"
          ]
        }
      ]
    },
    {
      "cell_type": "code",
      "source": [
        "# S1 = {x1, x2}, S2 = {x1}\n",
        "exact_cover_paulis = [('IZ', -0.5), ('ZZ', 0.5)]\n",
        "# S1 = {x1, x2}, S2 = {}\n",
        "# exact_cover_paulis = [('IZ', -1)]\n",
        "# S1 = {x1}, S2 = {x2}\n",
        "# exact_cover_paulis = [('ZI', -0.5), ('IZ', -0.5)]\n",
        "# S1 = {x1, x2}, S2 = {x1, x2}\n",
        "# exact_cover_paulis = [('ZZ', 1)]\n",
        "\n",
        "# exact_cover_paulis_list = [[('IZ', -0.5), ('ZZ', 0.5)], [('IZ', -1)], [('ZI', -0.5), ('IZ', -0.5)], [('ZZ', 1)]]\n",
        "\n",
        "cost_hamiltonian_ec = SparsePauliOp.from_list(exact_cover_paulis)\n",
        "print(\"Cost Function Hamiltonian:\", cost_hamiltonian_ec)\n"
      ],
      "metadata": {
        "colab": {
          "base_uri": "https://localhost:8080/"
        },
        "id": "dI7uGoOF3I-k",
        "outputId": "a0dbc8db-5a4f-4a31-ba5e-fbb3df9912b5"
      },
      "execution_count": null,
      "outputs": [
        {
          "output_type": "stream",
          "name": "stdout",
          "text": [
            "Cost Function Hamiltonian: SparsePauliOp(['ZZ'],\n",
            "              coeffs=[1.+0.j])\n"
          ]
        }
      ]
    },
    {
      "cell_type": "code",
      "source": [
        "layers = 1\n",
        "circuit_exact_cover = QAOAAnsatz(cost_operator=cost_hamiltonian_ec, reps=layers)\n",
        "circuit_exact_cover.measure_all()\n",
        "circuit_exact_cover.draw('mpl')\n",
        "\n"
      ],
      "metadata": {
        "colab": {
          "base_uri": "https://localhost:8080/",
          "height": 255
        },
        "id": "62Hgci8T3Kcy",
        "outputId": "0cc44769-d4af-40ce-d076-b45f324972f3"
      },
      "execution_count": null,
      "outputs": [
        {
          "output_type": "execute_result",
          "data": {
            "text/plain": [
              "<Figure size 580.387x284.278 with 1 Axes>"
            ],
            "image/png": "[encoded data removed]"
          },
          "metadata": {},
          "execution_count": 24
        }
      ]
    },
    {
      "cell_type": "code",
      "source": [
        "print(circuit_exact_cover.parameters)"
      ],
      "metadata": {
        "colab": {
          "base_uri": "https://localhost:8080/"
        },
        "id": "LF3i5X-A3iYW",
        "outputId": "ed18d1f0-007f-4fcc-fdda-97313df14e85"
      },
      "execution_count": null,
      "outputs": [
        {
          "output_type": "stream",
          "name": "stdout",
          "text": [
            "ParameterView([ParameterVectorElement(β[0]), ParameterVectorElement(γ[0])])\n"
          ]
        }
      ]
    },
    {
      "cell_type": "code",
      "source": [
        "# define 'helper functions'\n",
        "\n",
        "\n",
        "# Estimate the cost of a given configuration\n",
        "def cost_func_estimator(params, ansatz, hamiltonian, estimator):\n",
        "\n",
        "    # transform the observable defined on virtual qubits to\n",
        "    # an observable defined on all physical qubits\n",
        "    isa_hamiltonian = hamiltonian.apply_layout(ansatz.layout)\n",
        "\n",
        "    pub = (ansatz, isa_hamiltonian, params)\n",
        "    job = estimator.run([pub])\n",
        "\n",
        "    results = job.result()[0]\n",
        "    cost = results.data.evs\n",
        "    return cost\n",
        "\n"
      ],
      "metadata": {
        "id": "3FHKh3A-25en"
      },
      "execution_count": null,
      "outputs": []
    },
    {
      "cell_type": "code",
      "source": [
        "# 1 layer simulation\n",
        "sim = AerSimulator()\n",
        "# transpile the abstract circuit to a circuit that fit the simulator/machine\n",
        "ansatz = transpile(circuit_exact_cover, sim, optimization_level=0)\n",
        "# circuit parameters\n",
        "estimator = Estimator()\n",
        "hamiltonian = cost_hamiltonian_ec\n",
        "\n",
        "# Resolution of gamma and beta. larger number = finer resolution/more samples\n",
        "# Note: aproximate time to run this cell on my machine\n",
        "# 100x100 takes ca 4317 min\n",
        "# 40x40   takes ca 3 min\n",
        "# 20x20   takes ca 30 sec\n",
        "# 10x10   takes ca 10 sec\n",
        "# n_gamma = 21\n",
        "# n_beta = 21\n",
        "n_gamma = 61\n",
        "n_beta = 61\n",
        "\n",
        "# gamma, beta \\in [0,pi]\n",
        "# Note: max-cut has a symetry so that [0, pi/2] is suficient\n",
        "gammas = np.linspace(0, np.pi, num=n_gamma)\n",
        "betas = np.linspace(0, np.pi, num=n_beta)\n",
        "\n",
        "\n",
        "# Sweep over gamma and beta and compute the expected cost for each optimal configuration\n",
        "optimized_sols:list[dict]=[]\n",
        "opt_vals = np.zeros((n_gamma, n_beta))\n",
        "for ig in tqdm(range(n_gamma)):\n",
        "    for jb in range(n_beta):\n",
        "        params = [gammas[ig],betas[jb]]\n",
        "        opt_vals[ig, jb] = cost_func_estimator(params, ansatz, hamiltonian, estimator)\n",
        "\n",
        "\n",
        "\n",
        "\n",
        "\n",
        "\n"
      ],
      "metadata": {
        "colab": {
          "base_uri": "https://localhost:8080/"
        },
        "id": "RfgyDbOL3suS",
        "outputId": "c2a93de5-6d63-49db-e4dc-81004fbe4f86"
      },
      "execution_count": null,
      "outputs": [
        {
          "output_type": "stream",
          "name": "stderr",
          "text": [
            "100%|██████████| 61/61 [01:31<00:00,  1.50s/it]\n"
          ]
        }
      ]
    },
    {
      "cell_type": "code",
      "source": [
        "# print(result)\n",
        "print(opt_vals[:5])"
      ],
      "metadata": {
        "id": "d5xKbQDk8kKr",
        "colab": {
          "base_uri": "https://localhost:8080/"
        },
        "outputId": "d2a26115-1d5f-48a0-b916-a76939be4013"
      },
      "execution_count": null,
      "outputs": [
        {
          "output_type": "stream",
          "name": "stdout",
          "text": [
            "[[ 4.49218750e-02  2.34375000e-02 -1.75781250e-02  1.95312500e-02\n",
            "  -1.95312500e-03 -7.61718750e-02 -2.14843750e-02  9.76562500e-03\n",
            "  -9.76562500e-03  3.12500000e-02  2.34375000e-02 -4.49218750e-02\n",
            "  -2.14843750e-02 -1.56250000e-02 -3.12500000e-02 -2.53906250e-02\n",
            "   2.34375000e-02 -2.73437500e-02  8.59375000e-02 -1.95312500e-03\n",
            "   6.83593750e-02 -3.46944695e-18 -1.75781250e-02 -3.12500000e-02\n",
            "   7.81250000e-03  1.95312500e-03 -4.10156250e-02  1.75781250e-02\n",
            "  -1.56250000e-02 -3.51562500e-02 -2.34375000e-02  1.36718750e-02\n",
            "  -4.49218750e-02 -4.68750000e-02 -3.51562500e-02  1.56250000e-02\n",
            "   5.07812500e-02 -1.17187500e-02 -2.92968750e-02 -1.75781250e-02\n",
            "  -1.36718750e-02  0.00000000e+00 -5.85937500e-03  1.95312500e-02\n",
            "  -1.17187500e-02 -1.75781250e-02 -2.14843750e-02 -9.76562500e-03\n",
            "  -1.17187500e-02  6.93889390e-18 -1.75781250e-02  2.53906250e-02\n",
            "   3.90625000e-03 -3.32031250e-02  3.90625000e-02  1.95312500e-02\n",
            "   1.17187500e-02 -5.07812500e-02  2.14843750e-02 -2.73437500e-02\n",
            "   1.56250000e-02]\n",
            " [ 1.95312500e-03 -3.51562500e-02  2.53906250e-02  7.61718750e-02\n",
            "   1.46484375e-01  8.00781250e-02  1.60156250e-01  1.64062500e-01\n",
            "   1.58203125e-01  1.38671875e-01  1.62109375e-01  1.34765625e-01\n",
            "   1.99218750e-01  1.71875000e-01  1.81640625e-01  2.26562500e-01\n",
            "   2.44140625e-01  2.08984375e-01  1.81640625e-01  1.91406250e-01\n",
            "   1.95312500e-01  1.66015625e-01  1.60156250e-01  1.81640625e-01\n",
            "   9.37500000e-02  1.05468750e-01  8.98437500e-02  6.05468750e-02\n",
            "   5.85937500e-02  3.51562500e-02 -3.32031250e-02 -2.14843750e-02\n",
            "   9.76562500e-03 -6.83593750e-02 -6.64062500e-02 -1.13281250e-01\n",
            "  -1.25000000e-01 -1.40625000e-01 -1.75781250e-01 -1.66015625e-01\n",
            "  -1.58203125e-01 -1.93359375e-01 -1.73828125e-01 -1.69921875e-01\n",
            "  -2.05078125e-01 -2.26562500e-01 -2.32421875e-01 -2.01171875e-01\n",
            "  -1.73828125e-01 -2.18750000e-01 -1.07421875e-01 -1.60156250e-01\n",
            "  -1.03515625e-01 -1.79687500e-01 -1.71875000e-01 -7.61718750e-02\n",
            "  -4.29687500e-02 -4.10156250e-02 -7.22656250e-02  5.85937500e-03\n",
            "   5.85937500e-02]\n",
            " [-3.51562500e-02  3.32031250e-02  4.49218750e-02  1.48437500e-01\n",
            "   1.83593750e-01  1.62109375e-01  1.99218750e-01  2.81250000e-01\n",
            "   2.94921875e-01  3.06640625e-01  3.59375000e-01  3.78906250e-01\n",
            "   4.17968750e-01  3.37890625e-01  3.73046875e-01  4.10156250e-01\n",
            "   4.08203125e-01  4.14062500e-01  3.71093750e-01  3.86718750e-01\n",
            "   2.77343750e-01  3.26171875e-01  2.98828125e-01  3.02734375e-01\n",
            "   2.50000000e-01  2.28515625e-01  1.62109375e-01  1.03515625e-01\n",
            "   5.85937500e-02  9.76562500e-03  1.56250000e-02 -5.85937500e-02\n",
            "  -3.32031250e-02 -8.59375000e-02 -1.50390625e-01 -1.99218750e-01\n",
            "  -2.79296875e-01 -2.85156250e-01 -3.02734375e-01 -3.02734375e-01\n",
            "  -3.82812500e-01 -3.49609375e-01 -3.76953125e-01 -4.06250000e-01\n",
            "  -4.31640625e-01 -4.00390625e-01 -3.75000000e-01 -3.73046875e-01\n",
            "  -3.90625000e-01 -3.73046875e-01 -3.47656250e-01 -4.06250000e-01\n",
            "  -3.33984375e-01 -2.83203125e-01 -2.61718750e-01 -1.77734375e-01\n",
            "  -1.21093750e-01 -1.26953125e-01 -1.11328125e-01 -4.10156250e-02\n",
            "  -1.36718750e-02]\n",
            " [ 6.64062500e-02  9.37500000e-02  1.36718750e-01  2.34375000e-01\n",
            "   3.00781250e-01  2.92968750e-01  4.02343750e-01  4.33593750e-01\n",
            "   4.51171875e-01  4.80468750e-01  4.94140625e-01  5.21484375e-01\n",
            "   5.42968750e-01  5.76171875e-01  6.19140625e-01  5.78125000e-01\n",
            "   5.64453125e-01  5.52734375e-01  5.56640625e-01  5.76171875e-01\n",
            "   4.86328125e-01  4.74609375e-01  4.43359375e-01  3.76953125e-01\n",
            "   3.86718750e-01  3.04687500e-01  2.48046875e-01  1.75781250e-01\n",
            "   1.42578125e-01  3.12500000e-02  1.36718750e-02 -6.44531250e-02\n",
            "  -1.64062500e-01 -2.40234375e-01 -2.24609375e-01 -2.81250000e-01\n",
            "  -3.06640625e-01 -3.37890625e-01 -4.21875000e-01 -4.43359375e-01\n",
            "  -4.78515625e-01 -5.44921875e-01 -5.44921875e-01 -5.83984375e-01\n",
            "  -6.09375000e-01 -5.64453125e-01 -6.19140625e-01 -5.83984375e-01\n",
            "  -5.50781250e-01 -5.37109375e-01 -5.25390625e-01 -4.53125000e-01\n",
            "  -4.06250000e-01 -3.96484375e-01 -3.63281250e-01 -3.04687500e-01\n",
            "  -1.89453125e-01 -1.40625000e-01 -8.98437500e-02 -8.39843750e-02\n",
            "   1.17187500e-02]\n",
            " [-3.12500000e-02  5.07812500e-02  1.69921875e-01  1.87500000e-01\n",
            "   3.10546875e-01  3.51562500e-01  4.19921875e-01  5.07812500e-01\n",
            "   5.15625000e-01  5.87890625e-01  6.67968750e-01  6.64062500e-01\n",
            "   7.18750000e-01  6.87500000e-01  7.42187500e-01  7.61718750e-01\n",
            "   7.53906250e-01  6.99218750e-01  7.05078125e-01  6.52343750e-01\n",
            "   6.38671875e-01  5.78125000e-01  5.00000000e-01  5.25390625e-01\n",
            "   4.98046875e-01  4.10156250e-01  2.67578125e-01  2.24609375e-01\n",
            "   2.20703125e-01  5.66406250e-02  5.85937500e-03 -6.64062500e-02\n",
            "  -1.42578125e-01 -2.20703125e-01 -2.77343750e-01 -4.08203125e-01\n",
            "  -4.51171875e-01 -5.00000000e-01 -5.70312500e-01 -6.38671875e-01\n",
            "  -6.52343750e-01 -6.71875000e-01 -6.91406250e-01 -7.14843750e-01\n",
            "  -7.55859375e-01 -7.18750000e-01 -7.20703125e-01 -7.34375000e-01\n",
            "  -7.22656250e-01 -6.87500000e-01 -6.26953125e-01 -5.42968750e-01\n",
            "  -5.48828125e-01 -4.78515625e-01 -4.27734375e-01 -3.69140625e-01\n",
            "  -3.10546875e-01 -2.61718750e-01 -1.17187500e-01 -5.66406250e-02\n",
            "  -2.53906250e-02]]\n"
          ]
        }
      ]
    },
    {
      "cell_type": "code",
      "source": [
        "#plotting The result\n",
        "\n",
        "\n",
        "# 自定义绿色到粉色的渐变\n",
        "from matplotlib.colors import LinearSegmentedColormap\n",
        "colors = [\"magenta\", \"white\", \"green\"]\n",
        "cmap = LinearSegmentedColormap.from_list(\"green_to_pink\", colors)\n",
        "\n",
        "# 绘制热力图\n",
        "plt.imshow(opt_vals, origin='lower', cmap=cmap, extent=(0, np.pi, 0, np.pi), vmin=-1, vmax=1)\n",
        "plt.colorbar(label=\"Cost F($\\gamma$1, beta1)\")\n",
        "\n",
        "\n",
        "\n",
        "# Find the minimum value and its location\n",
        "min_idx = np.unravel_index(np.argmin(opt_vals), opt_vals.shape)\n",
        "min_val = opt_vals[min_idx]\n",
        "\n",
        "# Calculate the corresponding coordinates\n",
        "x_extent = (0, np.pi)\n",
        "y_extent = (0, np.pi)\n",
        "x_min = x_extent[0] + min_idx[1] * (x_extent[1] - x_extent[0]) / opt_vals.shape[1]\n",
        "y_min = y_extent[0] + min_idx[0] * (y_extent[1] - y_extent[0]) / opt_vals.shape[0]\n",
        "\n",
        "# Overlay the minimum point\n",
        "plt.scatter(x_min, y_min, color='red', label=f\"Min: {min_val:.2f}\", edgecolor='black')\n",
        "plt.legend()\n",
        "\n",
        "\n",
        "\n",
        "plt.ylabel(r'$\\beta$1')\n",
        "plt.xlabel(r'$\\gamma$1')\n",
        "plt.title(r'Expected Cost over the $\\beta$,$\\gamma$-plane')"
      ],
      "metadata": {
        "id": "I2_08ngEF5uY",
        "colab": {
          "base_uri": "https://localhost:8080/",
          "height": 495
        },
        "outputId": "54c51ffb-06da-4954-d7e4-29386e1defbc"
      },
      "execution_count": null,
      "outputs": [
        {
          "output_type": "execute_result",
          "data": {
            "text/plain": [
              "Text(0.5, 1.0, 'Expected Cost over the $\\\\beta$,$\\\\gamma$-plane')"
            ]
          },
          "metadata": {},
          "execution_count": 29
        },
        {
          "output_type": "display_data",
          "data": {
            "text/plain": [
              "<Figure size 640x480 with 2 Axes>"
            ],
            "image/png": "[encoded data removed]"
          },
          "metadata": {}
        }
      ]
    },
    {
      "cell_type": "code",
      "source": [
        "# calculate the minimum cost\n"
      ],
      "metadata": {
        "id": "g1Hgyq8JsAtl"
      },
      "execution_count": null,
      "outputs": []
    }
  ]
}